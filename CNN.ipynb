{
 "cells": [
  {
   "cell_type": "code",
   "execution_count": 1,
   "id": "677ac20f",
   "metadata": {},
   "outputs": [],
   "source": [
    "import numpy as np\n",
    
   
    "from keras.models import Sequential\n",
    "import pandas as pd\n",
    "from matplotlib import pyplot as plt\n",
    "%matplotlib inline\n",
    "import os\n",
    "import cv2\n",
    "from keras.layers import Dense, Conv2D, MaxPooling2D, Flatten,GlobalAveragePooling2D\n",
    "from PIL import Image\n",
    "from sklearn.preprocessing import LabelEncoder\n",
   
   ]
  },
  {
   "cell_type": "code",
   "execution_count": 2,
   "id": "fa5bfacd",
   "metadata": {},
   "outputs": [],
   "source": [
    "# Dataset paths\n",
    "train_dir = r\"C:/Users/hp/Documents/Mtech/charts/charts/train_val\"\n",
    "test_dir = r\"C:/Users/hp/Documents/Mtech/charts/charts/test\"\n",
    "train_labels = pd.read_csv(\"train_val.csv\")"
   ]
  },
  {
   "cell_type": "code",
   "execution_count": 3,
   "id": "7c685d72",
   "metadata": {},
   "outputs": [],
   "source": [
    "# load training dataset in numpy array\n",
    "images = []\n",
    "labels = []\n",
    "for filename in os.listdir(train_dir):\n",
    "    if filename.endswith('.png'):\n",
    "    # Load and resize the images to (128, 128) with 3 color channels\n",
    "        img = cv2.imread(os.path.join(train_dir, filename))\n",
    "        img = cv2.resize(img, (128, 128))\n",
    "        img = cv2.cvtColor(img, cv2.COLOR_BGR2RGB)\n",
    " \n",
    "        train_img_array = np.array(img)\n",
    "\n",
    "# Append the array to the list of images\n",
    "    images.append(train_img_array)\n",
    "    labels.append(filename)\n",
    " \n",
    "# Convert the string to numerical labels\n",
    "le = LabelEncoder()\n",
    "labels = le.fit_transform(labels)\n",
    "\n",
    "# Convert the lists to NumPy arrays\n",
    "images = np.array(images)\n",
    "labels = np.array(labels)\n",
    "np.save('a_train.npy', images)\n",
    "np.save('b_train.npy', labels)\n",
    "a_train = np.load('a_train.npy') \n",
    "b_train = np.load('b_train.npy') "
   ]
  },
  {
   "cell_type": "code",
   "execution_count": 4,
   "id": "8f2c648b",
   "metadata": {},
   "outputs": [],
   "source": [
    "# load test dataset in numpy array\n",
    "images = []\n",
    "labels = []\n",
    "for filename in os.listdir(test_dir):\n",
    "    if filename.endswith('.png'):\n",
    "    \n",
    "# Load the images and resize them to (128, 128) with 3 color channels\n",
    "        img = cv2.imread(os.path.join(test_dir, filename))\n",
    "        img = cv2.resize(img, (128, 128))\n",
    "        img = cv2.cvtColor(img, cv2.COLOR_BGR2RGB)\n",
    "    \n",
    "        test_img_array = np.array(img)\n",
    "\n",
    "# Append the array to the list of images\n",
    "    images.append(test_img_array)\n",
    "    labels.append(filename)\n",
    "\n",
    "# Convert the string labels to numerical labels\n",
    "le = LabelEncoder()\n",
    "labels = le.fit_transform(labels)\n",
    "\n",
    "\n",
    "# Convert the lists to NumPy arrays\n",
    "images = np.array(images)\n",
    "labels = np.array(labels)\n",
    "np.save('a_test.npy', images)\n",
    "np.save('b_test.npy', labels)\n",
    "a_test = np.load('a_test.npy')\n",
    "b_test = np.load('b_test.npy')"
   ]
  },
  {
   "cell_type": "code",
   "execution_count": 5,
   "id": "8555d7e2",
   "metadata": {},
   "outputs": [],
   "source": [
    "# define some classes from the images we have observed\n",
    "image_classes = ['line', 'dot_line', 'hbar_categorical', 'vbar_categorical', 'pie']\n",
    "image_classes[0]\n",
    "\n",
    "# mapping the categories to the labels\n",
    "label_map = {'line': 0, 'dot_line': 1, 'hbar_categorical': 2, 'vbar_categorical': 3, 'pie': 4}\n",
    "b_train = np.array([label_map[label] for label in train_labels['type']])"
   ]
  },
  {
   "cell_type": "code",
   "execution_count": 6,
   "id": "ace7b525",
   "metadata": {},
   "outputs": [],
   "source": [
    "\n",
    "# function to test the chart sample\n",
    "def image_sample(a, b, index):\n",
    "    plt.figure(figsize = (10,5))\n",
    "    plt.imshow(a[index])\n",
    "# image_label = train_val_labels.iloc[index]['type']\n",
    "# plt.xlabel(image_label)\n",
    "    plt.xlabel(image_classes[b[index]])"
   ]
  },
  {
   "cell_type": "code",
   "execution_count": 7,
   "id": "a7a38635",
   "metadata": {},
   "outputs": [
    {
     "data": {
      "image/png": "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\n",
      "text/plain": [
       "<Figure size 1000x500 with 1 Axes>"
      ]
     },
     "metadata": {},
     "output_type": "display_data"
    }
   ],
   "source": [
    "image_sample(a_train,b_train,0)"
   ]
  },
  {
   "cell_type": "code",
   "execution_count": 8,
   "id": "e8367f94",
   "metadata": {},
   "outputs": [
    {
     "data": {
      "text/plain": [
       "0    vbar_categorical\n",
       "1    vbar_categorical\n",
       "2    vbar_categorical\n",
       "3    vbar_categorical\n",
       "4    vbar_categorical\n",
       "Name: type, dtype: object"
      ]
     },
     "execution_count": 8,
     "metadata": {},
     "output_type": "execute_result"
    }
   ],
   "source": [
    "b_train_index = train_labels['image_index']\n",
    "b_train_type = train_labels['type']\n",
    "b_train_type[:5]"
   ]
  },
  {
   "cell_type": "code",
   "execution_count": 9,
   "id": "56fa3955",
   "metadata": {},
   "outputs": [],
   "source": [
    "#normalise\n",
    "a_train=a_train /255\n",
    "a_test=a_test /255"
   ]
  },
  {
   "cell_type": "code",
   "execution_count": 10,
   "id": "922e1754",
   "metadata": {},
   "outputs": [],
   "source": [
    "# Splitting the training images and labels to training and validation sets\n",
    "from sklearn.model_selection import train_test_split\n",
    "a_train, a_test, b_train, b_test = train_test_split(a_train, a_train, test_size=0.2, random_state=30)"
   ]
  },
  {
   "cell_type": "code",
   "execution_count": null,
   "id": "9363253f",
   "metadata": {},
   "outputs": [
    {
     "name": "stdout",
     "output_type": "stream",
     "text": [
      "Epoch 1/100\n"
     ]
    }
   ],
   "source": [
    "# CNN model\n",
    "cnn_model = Sequential([\n",
    "    Conv2D(filters=16 ,kernel_size=(3,3), activation='relu', input_shape=(128,128,3)),\n",
    "    MaxPooling2D(pool_size=(2,2)),\n",
    "    Conv2D(32, (3,3), activation='relu'),\n",
    "    MaxPooling2D(pool_size=(2,2)),\n",
    "    Conv2D(64, (3,3), activation='relu'),\n",
    "    MaxPooling2D(pool_size=(2,2)),\n",
    "    Flatten(),\n",
    "    Dense(128, activation='relu'),\n",
    "    Dense(5, activation='softmax')\n",
    "])\n",
    "\n",
    "# Compile the model\n",
    "cnn_model.compile(optimizer='adam', loss='sparse_categorical_crossentropy', metrics=['accuracy'])\n",
    "\n",
    "# Train the model\n",
    "history = cnn_model.fit(a_train, b_train, batch_size=1000, epochs=100,validation_data=(a_test, b_test))\n",
    "\n",
    "# Plot the obtained loss\n",
    "plt.plot(history.history['loss'])\n",
    "plt.plot(history.history['val_loss'])\n",
    "plt.title('Model Loss')\n",
    "plt.ylabel('Loss')\n",
    "plt.xlabel('Epoch')\n",
    "plt.legend(['Train', 'Validation'], loc='upper right')\n",
    "plt.show()"
   ]
  },
  {
   "cell_type": "code",
   "execution_count": null,
   "id": "1facb4e0",
   "metadata": {},
   "outputs": [],
   "source": [
    "cnn_model.evaluate(a_test,b_test)"
   ]
  },
  {
   "cell_type": "code",
   "execution_count": null,
   "id": "fbd499f8",
   "metadata": {},
   "outputs": [],
   "source": [
    "image_sample(a_test,b_test,10)\n",
    "image_sample(a_test,b_test,20)\n",
    "image_sample(a_test,b_test,40)\n",
    "image_sample(a_test,b_test,80)"
   ]
  },
  {
   "cell_type": "code",
   "execution_count": null,
   "id": "f1d84d54",
   "metadata": {},
   "outputs": [],
   "source": [
    "b_pred = cnn_model.predict(a_test)\n",
    "b_pred[:3]"
   ]
  },
  {
   "cell_type": "code",
   "execution_count": null,
   "id": "cf6fa88f",
   "metadata": {},
   "outputs": [],
   "source": [
    "b_classes = [np.argmax(element) for element in b_pred]\n",
    "b_classes[:3]"
   ]
  },
  {
   "cell_type": "code",
   "execution_count": null,
   "id": "26eef0a5",
   "metadata": {},
   "outputs": [],
   "source": [
    "b_test[:3]"
   ]
  },
  {
   "cell_type": "code",
   "execution_count": null,
   "id": "e2247dee",
   "metadata": {},
   "outputs": [],
   "source": [
    "image_sample(a_test,b_test,10)\n",
    "image_classes[b_classes[10]]"
   ]
  },
  {
   "cell_type": "code",
   "execution_count": null,
   "id": "f2881cfd",
   "metadata": {},
   "outputs": [],
   "source": [
    "# Generate the confusion matrix\n",
    "con_mat = confusion_matrix(b_test, b_classes)\n",
    "\n",
    "# Plot the confusion matrix\n",
    "import seaborn as sn\n",
    "plt.figure(figsize = (10,10))\n",
    "sn.heatmap(con_mat,annot=True,cmap=\"BuPu\")\n",
    "plt.xlabel('Predicted')\n",
    "plt.ylabel('Actual')"
   ]
  }
 ],
 "metadata": {
  "kernelspec": {
   "display_name": "Python 3 (ipykernel)",
   "language": "python",
   "name": "python3"
  },
  "language_info": {
   "codemirror_mode": {
    "name": "ipython",
    "version": 3
   },
   "file_extension": ".py",
   "mimetype": "text/x-python",
   "name": "python",
   "nbconvert_exporter": "python",
   "pygments_lexer": "ipython3",
   "version": "3.9.13"
  }
 },
 "nbformat": 4,
 "nbformat_minor": 5
}
